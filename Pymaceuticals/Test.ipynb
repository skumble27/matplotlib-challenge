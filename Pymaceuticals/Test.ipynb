{
 "metadata": {
  "language_info": {
   "codemirror_mode": {
    "name": "ipython",
    "version": 3
   },
   "file_extension": ".py",
   "mimetype": "text/x-python",
   "name": "python",
   "nbconvert_exporter": "python",
   "pygments_lexer": "ipython3",
   "version": 3
  },
  "orig_nbformat": 2
 },
 "nbformat": 4,
 "nbformat_minor": 2,
 "cells": [
  {
   "cell_type": "code",
   "execution_count": null,
   "metadata": {},
   "outputs": [],
   "source": [
    "capomulin = pd.DataFrame(cleaned_mouse_study_data[cleaned_mouse_study_data['Drug Regimen']=='Capomulin'])\n",
    "\n",
    "capomulin = capomulin.iloc[capomulin.groupby('Drug Regimen')['Timepoint'].agg(pd.Series.idxmax)]\n",
    "\n",
    "raw_drug_regimen = cleaned_mouse_study_data[['Mouse ID','Drug Regimen','Timepoint','Tumor Volume (mm3)']]\n",
    "\n",
    "capomulin = raw_drug_regimen.iloc[raw_drug_regimen.groupby(['Drug Regimen','Mouse ID'])['Timepoint'].agg(pd.Series.idxmax)]\n"
   ]
  },
  {
   "cell_type": "code",
   "execution_count": null,
   "metadata": {},
   "outputs": [],
   "source": [
    "drug_regimen = cleaned_mouse_study_data[(cleaned_mouse_study_data['Drug Regimen']=='Capomulin') | (cleaned_mouse_study_data['Drug Regimen']=='Ramicane') | (cleaned_mouse_study_data['Drug Regimen']=='Infubinol') | (cleaned_mouse_study_data['Drug Regimen']=='Ceftamin')) &  (cleaned_mouse_study_data['Timepoint']==45)]"
   ]
  }
 ]
}