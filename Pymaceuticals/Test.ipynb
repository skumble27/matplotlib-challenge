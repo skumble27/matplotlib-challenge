{
 "metadata": {
  "language_info": {
   "codemirror_mode": {
    "name": "ipython",
    "version": 3
   },
   "file_extension": ".py",
   "mimetype": "text/x-python",
   "name": "python",
   "nbconvert_exporter": "python",
   "pygments_lexer": "ipython3",
   "version": "3.6.12-final"
  },
  "orig_nbformat": 2,
  "kernelspec": {
   "name": "python_defaultSpec_1600848583483",
   "display_name": "Python 3.6.12 64-bit ('BootCampMonash': conda)"
  }
 },
 "nbformat": 4,
 "nbformat_minor": 2,
 "cells": [
  {
   "cell_type": "code",
   "execution_count": null,
   "metadata": {},
   "outputs": [],
   "source": [
    "capomulin = pd.DataFrame(cleaned_mouse_study_data[cleaned_mouse_study_data['Drug Regimen']=='Capomulin'])\n",
    "\n",
    "capomulin = capomulin.iloc[capomulin.groupby('Drug Regimen')['Timepoint'].agg(pd.Series.idxmax)]\n",
    "\n",
    "raw_drug_regimen = cleaned_mouse_study_data[['Mouse ID','Drug Regimen','Timepoint','Tumor Volume (mm3)']]\n",
    "\n",
    "capomulin = raw_drug_regimen.iloc[raw_drug_regimen.groupby(['Drug Regimen','Mouse ID'])['Timepoint'].agg(pd.Series.idxmax)]\n"
   ]
  },
  {
   "cell_type": "code",
   "execution_count": null,
   "metadata": {},
   "outputs": [],
   "source": [
    "drug_regimen = cleaned_mouse_study_data[((cleaned_mouse_study_data['Drug Regimen']=='Capomulin') | (cleaned_mouse_study_data['Drug Regimen']=='Ramicane') | (cleaned_mouse_study_data['Drug Regimen']=='Infubinol') | (cleaned_mouse_study_data['Drug Regimen']=='Ceftamin')) & (cleaned_mouse_study_data['Timepoint']==45)]"
   ]
  },
  {
   "cell_type": "code",
   "execution_count": null,
   "metadata": {},
   "outputs": [],
   "source": [
    "updated_cleaned_mouse_study_data = pd.merge(cleaned_mouse_study_data,drug_regimen,left_on=['Mouse ID','Drug Regimen','Sex','Age_months','Weight (g)'])\n",
    "\n",
    "updated_cleaned_mouse_study_data.to_csv('data/updated_cleaned_mouse_study_data.csv')\n"
   ]
  },
  {
   "cell_type": "code",
   "execution_count": null,
   "metadata": {},
   "outputs": [],
   "source": [
    "drug_regimen = cleaned_mouse_study_data[((cleaned_mouse_study_data['Drug Regimen']=='Capomulin') | (cleaned_mouse_study_data['Drug Regimen']=='Ramicane') | (cleaned_mouse_study_data['Drug Regimen']=='Infubinol') | (cleaned_mouse_study_data['Drug Regimen']=='Ceftamin')) & (cleaned_mouse_study_data.Timepoint==cleaned_mouse_study_data.Timepoint.max())]"
   ]
  },
  {
   "cell_type": "code",
   "execution_count": null,
   "metadata": {},
   "outputs": [],
   "source": [
    "drugs = updated_cleaned_mouse_study_data.groupby('Drug Regimen')['Tumor Volume (mm3)_y'].mean()\n",
    "drug_list = []\n",
    "\n",
    "for drug in drugs:\n",
    "    drug_list.append(drugs.loc[drugs['Drug Regimen']])\n",
    "\n",
    "drugs = pd.DataFrame(updated_cleaned_mouse_study_data.groupby('Drug Regimen')['Tumor Volume (mm3)_y'].mean())\n",
    "drug_treatment_list = []"
   ]
  },
  {
   "cell_type": "code",
   "execution_count": null,
   "metadata": {},
   "outputs": [],
   "source": []
  },
  {
   "cell_type": "code",
   "execution_count": null,
   "metadata": {},
   "outputs": [],
   "source": [
    "updated_cleaned_mouse_study_data = pd.merge(cleaned_mouse_study_data,drug_regimen,on=['Mouse ID','Drug Regimen','Sex','Age_months','Weight (g)','Timepoint'], how='outer').dropna(how='any')\n",
    "\n",
    "\n",
    "updated_cleaned_mouse_study_data.drop(columns =['Tumor Volume (mm3)_y',])"
   ]
  },
  {
   "cell_type": "code",
   "execution_count": null,
   "metadata": {},
   "outputs": [],
   "source": [
    "drug_treatment_average = updated_cleaned_mouse_study_data.groupby('Drug Regimen')['Tumor Volume (mm3)'].mean().reset_index()\n",
    "\n",
    "drug_list = []\n",
    "\n",
    "for drug in drug_treatment_average:\n",
    "    drug_list.append(drug_treatment_average['Drug Regimen'].drug)"
   ]
  },
  {
   "cell_type": "code",
   "execution_count": null,
   "metadata": {},
   "outputs": [],
   "source": [
    "## Appending the Drug List to use later in plots\n",
    "for drug in drug_treatment_average['Drug Regimen']:\n",
    "    drug_list.append(drug)\n",
    "\n",
    "# Create empty list to fill with tumor vol data (for plotting)\n",
    "for tumor in drug_treatment_average['Tumor Volume (mm3)']:\n",
    "    tumor_data.append(tumor)"
   ]
  },
  {
   "cell_type": "code",
   "execution_count": null,
   "metadata": {},
   "outputs": [],
   "source": [
    "tumor_volume_quartile = updated_cleaned_mouse_study_data['Tumor Volume (mm3)'].quantile([0.25,0.5,0.75])\n",
    "\n",
    "tumor_volume_Q1 = tumor_volume_quartile[0.25]\n",
    "tumor_volume_Q3 = tumor_volume_quartile[0.75]\n",
    "tumor_volume_IQR = tumor_volume_Q3 - tumor_volume_Q1\n",
    "\n",
    "tumor_volume_lower_bound = tumor_volume_Q1 - (1.5*tumor_volume_IQR)\n",
    "tumor_volume_upper_bound = tumor_volume_Q3 + (1.5 * tumor_volume_IQR)\n",
    "\n",
    "print(f'The Tumor Volume IQR is {tumor_volume_IQR}')\n",
    "print(f\"Values below {tumor_volume_lower_bound} could be outliers.\")\n",
    "print(f\"Values above {tumor_volume_upper_bound} could be outliers.\")"
   ]
  },
  {
   "cell_type": "code",
   "execution_count": null,
   "metadata": {},
   "outputs": [],
   "source": [
    "drug_regimen = cleaned_mouse_study_data[((cleaned_mouse_study_data['Drug Regimen']=='Capomulin') | (cleaned_mouse_study_data['Drug Regimen']=='Ramicane') | (cleaned_mouse_study_data['Drug Regimen']=='Infubinol') | (cleaned_mouse_study_data['Drug Regimen']=='Ceftamin')) & (cleaned_mouse_study_data['Timepoint']==cleaned_mouse_study_data['Timepoint'].max())]"
   ]
  },
  {
   "cell_type": "code",
   "execution_count": null,
   "metadata": {},
   "outputs": [],
   "source": [
    "import pandas as pd\n",
    "df = pd.DataFrame({\"grouping\":[\"a\", \"a\", \"a\", \"b\", \"b\"], \"value\":[1,4,6,5,2]})\n"
   ]
  },
  {
   "cell_type": "code",
   "execution_count": null,
   "metadata": {},
   "outputs": [],
   "source": [
    "df_gb = df.groupby(\"grouping\").max()\n",
    "df_gb"
   ]
  },
  {
   "cell_type": "code",
   "execution_count": null,
   "metadata": {},
   "outputs": [],
   "source": [
    "df = df.set_index(\"grouping\")\n",
    "df"
   ]
  },
  {
   "cell_type": "code",
   "execution_count": null,
   "metadata": {},
   "outputs": [],
   "source": [
    "trial = mouse_study_df.groupby('Mouse ID').max()['Timepoint']\n",
    "merged = pd.merge(mouse_metadata,trial, on='Mouse ID', how='left')\n",
    "merged.to_csv('data/merged.csv')\n",
    "merged"
   ]
  },
  {
   "cell_type": "code",
   "execution_count": 1,
   "metadata": {
    "tags": []
   },
   "outputs": [
    {
     "output_type": "stream",
     "name": "stdout",
     "text": "x is less than nine\n"
    }
   ],
   "source": [
    "x = 2\n",
    "\n",
    "if x < 9:\n",
    "    print('x is less than nine')"
   ]
  },
  {
   "cell_type": "code",
   "execution_count": null,
   "metadata": {},
   "outputs": [],
   "source": []
  },
  {
   "cell_type": "code",
   "execution_count": null,
   "metadata": {},
   "outputs": [],
   "source": []
  },
  {
   "cell_type": "code",
   "execution_count": null,
   "metadata": {},
   "outputs": [],
   "source": []
  },
  {
   "cell_type": "code",
   "execution_count": null,
   "metadata": {},
   "outputs": [],
   "source": []
  },
  {
   "cell_type": "code",
   "execution_count": null,
   "metadata": {},
   "outputs": [],
   "source": [
    "drug_tum_max = mouse_study_df.groupby('Mouse ID').max()['Timepoint']\n",
    "drug_tum_max = pd.DataFrame(drug_tum_max)\n",
    "drug_tum_max1 = pd.merge(drug_tum_max,mouse_study_df, on=('Mouse ID','Timepoint'), how='left')\n",
    "drug_tum_max1.to_csv('data/drugtum.csv')"
   ]
  },
  {
   "cell_type": "code",
   "execution_count": null,
   "metadata": {},
   "outputs": [],
   "source": []
  },
  {
   "cell_type": "code",
   "execution_count": null,
   "metadata": {},
   "outputs": [],
   "source": [
    "quartile = tumor_volume.quantile([0.25,0.5,0.75])\n",
    "\n",
    "    Q1 = quartile[0.25]\n",
    "    Q3 = quartile[0.75]\n",
    "    IQR = Q3 - Q1\n",
    "\n",
    "    lower_bound = Q1 - (IQR*1.5)\n",
    "    upper_bound = Q3 + (IQR*1.5)\n",
    "\n",
    "    outliers = (tumor_volume.loc[(tumor_volume<lower_bound)|(tumor_volume>upper_bound)])\n",
    "\n",
    "    print(f'For {drug}')\n",
    "    print(f'The first quartile is {Q1}')\n",
    "    print(f'The third quartile is {Q3}')\n",
    "    print(f'The inter-quartile range is {IQR}')\n",
    "    print(f'The lower bound value is {lower_bound}')\n",
    "    print(f'The upper bound value is {upper_bound}')\n",
    "    print(f'The outliers is {outliers}\\n')\n",
    "    "
   ]
  }
 ]
}