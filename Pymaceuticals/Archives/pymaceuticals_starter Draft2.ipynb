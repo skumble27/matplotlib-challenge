{
 "cells": [
  {
   "cell_type": "markdown",
   "metadata": {},
   "source": [
    "## Observations and Insights "
   ]
  },
  {
   "cell_type": "markdown",
   "metadata": {},
   "source": []
  },
  {
   "cell_type": "code",
   "execution_count": 45,
   "metadata": {},
   "outputs": [],
   "source": [
    "# Dependencies and Setup\n",
    "import matplotlib.pyplot as plt\n",
    "import pandas as pd\n",
    "import scipy.stats as st\n",
    "\n",
    "# Study data files\n",
    "mouse_metadata_path = \"data/Mouse_metadata.csv\"\n",
    "study_results_path = \"data/Study_results.csv\"\n",
    "\n",
    "# Read the mouse data and the study results\n",
    "mouse_metadata = pd.read_csv(mouse_metadata_path)\n",
    "study_results = pd.read_csv(study_results_path)\n",
    "\n"
   ]
  },
  {
   "cell_type": "code",
   "execution_count": 46,
   "metadata": {},
   "outputs": [
    {
     "output_type": "execute_result",
     "data": {
      "text/plain": "  Mouse ID Drug Regimen     Sex  Age_months  Weight (g)\n0     k403     Ramicane    Male          21          16\n1     s185    Capomulin  Female           3          17\n2     x401    Capomulin  Female          16          15\n3     m601    Capomulin    Male          22          17\n4     g791     Ramicane    Male          11          16",
      "text/html": "<div>\n<style scoped>\n    .dataframe tbody tr th:only-of-type {\n        vertical-align: middle;\n    }\n\n    .dataframe tbody tr th {\n        vertical-align: top;\n    }\n\n    .dataframe thead th {\n        text-align: right;\n    }\n</style>\n<table border=\"1\" class=\"dataframe\">\n  <thead>\n    <tr style=\"text-align: right;\">\n      <th></th>\n      <th>Mouse ID</th>\n      <th>Drug Regimen</th>\n      <th>Sex</th>\n      <th>Age_months</th>\n      <th>Weight (g)</th>\n    </tr>\n  </thead>\n  <tbody>\n    <tr>\n      <th>0</th>\n      <td>k403</td>\n      <td>Ramicane</td>\n      <td>Male</td>\n      <td>21</td>\n      <td>16</td>\n    </tr>\n    <tr>\n      <th>1</th>\n      <td>s185</td>\n      <td>Capomulin</td>\n      <td>Female</td>\n      <td>3</td>\n      <td>17</td>\n    </tr>\n    <tr>\n      <th>2</th>\n      <td>x401</td>\n      <td>Capomulin</td>\n      <td>Female</td>\n      <td>16</td>\n      <td>15</td>\n    </tr>\n    <tr>\n      <th>3</th>\n      <td>m601</td>\n      <td>Capomulin</td>\n      <td>Male</td>\n      <td>22</td>\n      <td>17</td>\n    </tr>\n    <tr>\n      <th>4</th>\n      <td>g791</td>\n      <td>Ramicane</td>\n      <td>Male</td>\n      <td>11</td>\n      <td>16</td>\n    </tr>\n  </tbody>\n</table>\n</div>"
     },
     "metadata": {},
     "execution_count": 46
    }
   ],
   "source": [
    "## Mouse Meta_Data\n",
    "mouse_metadata.head()"
   ]
  },
  {
   "cell_type": "code",
   "execution_count": 47,
   "metadata": {},
   "outputs": [
    {
     "output_type": "execute_result",
     "data": {
      "text/plain": "  Mouse ID  Timepoint  Tumor Volume (mm3)  Metastatic Sites\n0     b128          0                45.0                 0\n1     f932          0                45.0                 0\n2     g107          0                45.0                 0\n3     a457          0                45.0                 0\n4     c819          0                45.0                 0",
      "text/html": "<div>\n<style scoped>\n    .dataframe tbody tr th:only-of-type {\n        vertical-align: middle;\n    }\n\n    .dataframe tbody tr th {\n        vertical-align: top;\n    }\n\n    .dataframe thead th {\n        text-align: right;\n    }\n</style>\n<table border=\"1\" class=\"dataframe\">\n  <thead>\n    <tr style=\"text-align: right;\">\n      <th></th>\n      <th>Mouse ID</th>\n      <th>Timepoint</th>\n      <th>Tumor Volume (mm3)</th>\n      <th>Metastatic Sites</th>\n    </tr>\n  </thead>\n  <tbody>\n    <tr>\n      <th>0</th>\n      <td>b128</td>\n      <td>0</td>\n      <td>45.0</td>\n      <td>0</td>\n    </tr>\n    <tr>\n      <th>1</th>\n      <td>f932</td>\n      <td>0</td>\n      <td>45.0</td>\n      <td>0</td>\n    </tr>\n    <tr>\n      <th>2</th>\n      <td>g107</td>\n      <td>0</td>\n      <td>45.0</td>\n      <td>0</td>\n    </tr>\n    <tr>\n      <th>3</th>\n      <td>a457</td>\n      <td>0</td>\n      <td>45.0</td>\n      <td>0</td>\n    </tr>\n    <tr>\n      <th>4</th>\n      <td>c819</td>\n      <td>0</td>\n      <td>45.0</td>\n      <td>0</td>\n    </tr>\n  </tbody>\n</table>\n</div>"
     },
     "metadata": {},
     "execution_count": 47
    }
   ],
   "source": [
    "## Study Results Data\n",
    "study_results.head()"
   ]
  },
  {
   "cell_type": "code",
   "execution_count": 48,
   "metadata": {},
   "outputs": [
    {
     "output_type": "execute_result",
     "data": {
      "text/plain": "  Mouse ID Drug Regimen   Sex  Age_months  Weight (g)  Timepoint  \\\n0     k403     Ramicane  Male          21          16          0   \n1     k403     Ramicane  Male          21          16          5   \n2     k403     Ramicane  Male          21          16         10   \n3     k403     Ramicane  Male          21          16         15   \n4     k403     Ramicane  Male          21          16         20   \n\n   Tumor Volume (mm3)  Metastatic Sites  \n0           45.000000                 0  \n1           38.825898                 0  \n2           35.014271                 1  \n3           34.223992                 1  \n4           32.997729                 1  ",
      "text/html": "<div>\n<style scoped>\n    .dataframe tbody tr th:only-of-type {\n        vertical-align: middle;\n    }\n\n    .dataframe tbody tr th {\n        vertical-align: top;\n    }\n\n    .dataframe thead th {\n        text-align: right;\n    }\n</style>\n<table border=\"1\" class=\"dataframe\">\n  <thead>\n    <tr style=\"text-align: right;\">\n      <th></th>\n      <th>Mouse ID</th>\n      <th>Drug Regimen</th>\n      <th>Sex</th>\n      <th>Age_months</th>\n      <th>Weight (g)</th>\n      <th>Timepoint</th>\n      <th>Tumor Volume (mm3)</th>\n      <th>Metastatic Sites</th>\n    </tr>\n  </thead>\n  <tbody>\n    <tr>\n      <th>0</th>\n      <td>k403</td>\n      <td>Ramicane</td>\n      <td>Male</td>\n      <td>21</td>\n      <td>16</td>\n      <td>0</td>\n      <td>45.000000</td>\n      <td>0</td>\n    </tr>\n    <tr>\n      <th>1</th>\n      <td>k403</td>\n      <td>Ramicane</td>\n      <td>Male</td>\n      <td>21</td>\n      <td>16</td>\n      <td>5</td>\n      <td>38.825898</td>\n      <td>0</td>\n    </tr>\n    <tr>\n      <th>2</th>\n      <td>k403</td>\n      <td>Ramicane</td>\n      <td>Male</td>\n      <td>21</td>\n      <td>16</td>\n      <td>10</td>\n      <td>35.014271</td>\n      <td>1</td>\n    </tr>\n    <tr>\n      <th>3</th>\n      <td>k403</td>\n      <td>Ramicane</td>\n      <td>Male</td>\n      <td>21</td>\n      <td>16</td>\n      <td>15</td>\n      <td>34.223992</td>\n      <td>1</td>\n    </tr>\n    <tr>\n      <th>4</th>\n      <td>k403</td>\n      <td>Ramicane</td>\n      <td>Male</td>\n      <td>21</td>\n      <td>16</td>\n      <td>20</td>\n      <td>32.997729</td>\n      <td>1</td>\n    </tr>\n  </tbody>\n</table>\n</div>"
     },
     "metadata": {},
     "execution_count": 48
    }
   ],
   "source": [
    "# Combine the data into a single dataset\n",
    "drug_study_data = pd.merge(\n",
    "    mouse_metadata,\n",
    "    study_results,\n",
    "    on='Mouse ID',\n",
    "    how='outer')\n",
    "\n",
    "# Display the data table for preview\n",
    "drug_study_data.head()"
   ]
  },
  {
   "cell_type": "code",
   "execution_count": 66,
   "metadata": {},
   "outputs": [
    {
     "output_type": "execute_result",
     "data": {
      "text/plain": "1893"
     },
     "metadata": {},
     "execution_count": 66
    }
   ],
   "source": [
    "# Checking the number of mice.\n",
    "mouse_count = drug_study_data['Mouse ID'].count()\n",
    "mouse_count\n",
    "\n",
    "# Upon the merging of the two data frames, the Mouse ID numbers contain several replicates indicating that 1893 mice have been used in the study even though the preliminary study plan indicates that 249 mice have been used in this study. \n"
   ]
  },
  {
   "cell_type": "code",
   "execution_count": 112,
   "metadata": {},
   "outputs": [
    {
     "output_type": "execute_result",
     "data": {
      "text/plain": "5"
     },
     "metadata": {},
     "execution_count": 112
    }
   ],
   "source": [
    "## Counting the number of duplicates based on Mouse ID and Timepoint\n",
    "drug_study_data[['Mouse ID','Timepoint']].duplicated().sum()"
   ]
  },
  {
   "cell_type": "code",
   "execution_count": 106,
   "metadata": {
    "tags": []
   },
   "outputs": [
    {
     "output_type": "execute_result",
     "data": {
      "text/plain": "    Mouse ID Drug Regimen     Sex  Age_months  Weight (g)  Timepoint  \\\n909     g989     Propriva  Female          21          26          0   \n\n     Tumor Volume (mm3)  Metastatic Sites  \n909                45.0                 0  ",
      "text/html": "<div>\n<style scoped>\n    .dataframe tbody tr th:only-of-type {\n        vertical-align: middle;\n    }\n\n    .dataframe tbody tr th {\n        vertical-align: top;\n    }\n\n    .dataframe thead th {\n        text-align: right;\n    }\n</style>\n<table border=\"1\" class=\"dataframe\">\n  <thead>\n    <tr style=\"text-align: right;\">\n      <th></th>\n      <th>Mouse ID</th>\n      <th>Drug Regimen</th>\n      <th>Sex</th>\n      <th>Age_months</th>\n      <th>Weight (g)</th>\n      <th>Timepoint</th>\n      <th>Tumor Volume (mm3)</th>\n      <th>Metastatic Sites</th>\n    </tr>\n  </thead>\n  <tbody>\n    <tr>\n      <th>909</th>\n      <td>g989</td>\n      <td>Propriva</td>\n      <td>Female</td>\n      <td>21</td>\n      <td>26</td>\n      <td>0</td>\n      <td>45.0</td>\n      <td>0</td>\n    </tr>\n  </tbody>\n</table>\n</div>"
     },
     "metadata": {},
     "execution_count": 106
    }
   ],
   "source": [
    "# Getting the duplicate mice by ID number that shows up for Mouse ID and Timepoint.\n",
    "\n",
    "mouse_duplicates_1 = drug_study_data[drug_study_data.duplicated(keep='first')]\n",
    "\n",
    "mouse_duplicates_1\n"
   ]
  },
  {
   "cell_type": "code",
   "execution_count": 87,
   "metadata": {},
   "outputs": [],
   "source": [
    "# Create a clean DataFrame by dropping the duplicate mouse by its ID.\n"
   ]
  },
  {
   "cell_type": "code",
   "execution_count": 88,
   "metadata": {},
   "outputs": [],
   "source": [
    "# Checking the number of mice in the clean DataFrame.\n"
   ]
  },
  {
   "cell_type": "markdown",
   "metadata": {},
   "source": [
    "## Summary Statistics"
   ]
  },
  {
   "cell_type": "code",
   "execution_count": 89,
   "metadata": {},
   "outputs": [],
   "source": [
    "# Generate a summary statistics table of mean, median, variance, standard deviation, and SEM of the tumor volume for each regimen\n",
    "\n",
    "# This method is the most straighforward, creating multiple series and putting them all together at the end.\n",
    "\n"
   ]
  },
  {
   "cell_type": "code",
   "execution_count": 90,
   "metadata": {},
   "outputs": [],
   "source": [
    "# Generate a summary statistics table of mean, median, variance, standard deviation, and SEM of the tumor volume for each regimen\n",
    "\n",
    "# This method produces everything in a single groupby function\n"
   ]
  },
  {
   "cell_type": "markdown",
   "metadata": {},
   "source": [
    "## Bar and Pie Charts"
   ]
  },
  {
   "cell_type": "code",
   "execution_count": 91,
   "metadata": {},
   "outputs": [],
   "source": [
    "# Generate a bar plot showing the total number of mice for each treatment throughout the course of the study using pandas. \n",
    "\n"
   ]
  },
  {
   "cell_type": "code",
   "execution_count": 92,
   "metadata": {},
   "outputs": [],
   "source": [
    "# Generate a bar plot showing the total number of mice for each treatment throughout the course of the study using pyplot.\n",
    "\n"
   ]
  },
  {
   "cell_type": "code",
   "execution_count": 93,
   "metadata": {},
   "outputs": [],
   "source": [
    "# Generate a pie plot showing the distribution of female versus male mice using pandas\n",
    "\n"
   ]
  },
  {
   "cell_type": "code",
   "execution_count": 94,
   "metadata": {},
   "outputs": [],
   "source": [
    "# Generate a pie plot showing the distribution of female versus male mice using pyplot\n",
    "\n"
   ]
  },
  {
   "cell_type": "markdown",
   "metadata": {},
   "source": [
    "## Quartiles, Outliers and Boxplots"
   ]
  },
  {
   "cell_type": "code",
   "execution_count": 95,
   "metadata": {},
   "outputs": [],
   "source": [
    "# Calculate the final tumor volume of each mouse across four of the treatment regimens:  \n",
    "# Capomulin, Ramicane, Infubinol, and Ceftamin\n",
    "\n",
    "# Start by getting the last (greatest) timepoint for each mouse\n",
    "\n",
    "\n",
    "# Merge this group df with the original dataframe to get the tumor volume at the last timepoint\n"
   ]
  },
  {
   "cell_type": "code",
   "execution_count": 96,
   "metadata": {},
   "outputs": [],
   "source": [
    "# Put treatments into a list for for loop (and later for plot labels)\n",
    "\n",
    "\n",
    "# Create empty list to fill with tumor vol data (for plotting)\n",
    "\n",
    "\n",
    "# Calculate the IQR and quantitatively determine if there are any potential outliers. \n",
    "\n",
    "    \n",
    "    # Locate the rows which contain mice on each drug and get the tumor volumes\n",
    "    \n",
    "    \n",
    "    # add subset \n",
    "    \n",
    "    \n",
    "    # Determine outliers using upper and lower bounds\n",
    "    "
   ]
  },
  {
   "cell_type": "code",
   "execution_count": 97,
   "metadata": {},
   "outputs": [],
   "source": [
    "# Generate a box plot of the final tumor volume of each mouse across four regimens of interest\n"
   ]
  },
  {
   "cell_type": "markdown",
   "metadata": {},
   "source": [
    "## Line and Scatter Plots"
   ]
  },
  {
   "cell_type": "code",
   "execution_count": 98,
   "metadata": {},
   "outputs": [],
   "source": [
    "# Generate a line plot of time point versus tumor volume for a mouse treated with Capomulin\n"
   ]
  },
  {
   "cell_type": "code",
   "execution_count": 99,
   "metadata": {},
   "outputs": [],
   "source": [
    "# Generate a scatter plot of mouse weight versus average tumor volume for the Capomulin regimen\n"
   ]
  },
  {
   "cell_type": "markdown",
   "metadata": {},
   "source": [
    "## Correlation and Regression"
   ]
  },
  {
   "cell_type": "code",
   "execution_count": 100,
   "metadata": {},
   "outputs": [],
   "source": [
    "# Calculate the correlation coefficient and linear regression model \n",
    "# for mouse weight and average tumor volume for the Capomulin regimen\n"
   ]
  },
  {
   "cell_type": "code",
   "execution_count": null,
   "metadata": {},
   "outputs": [],
   "source": []
  }
 ],
 "metadata": {
  "anaconda-cloud": {},
  "kernelspec": {
   "display_name": "Python 3.6.12 64-bit ('BootCampMonash': conda)",
   "language": "python",
   "name": "python361264bitbootcampmonashconda2e6efb6a376242db90ce542f5ab8dbba"
  },
  "language_info": {
   "codemirror_mode": {
    "name": "ipython",
    "version": 3
   },
   "file_extension": ".py",
   "mimetype": "text/x-python",
   "name": "python",
   "nbconvert_exporter": "python",
   "pygments_lexer": "ipython3",
   "version": "3.6.12-final"
  }
 },
 "nbformat": 4,
 "nbformat_minor": 2
}